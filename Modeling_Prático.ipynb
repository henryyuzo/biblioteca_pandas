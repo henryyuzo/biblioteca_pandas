{
  "nbformat": 4,
  "nbformat_minor": 0,
  "metadata": {
    "colab": {
      "provenance": [],
      "toc_visible": true,
      "authorship_tag": "ABX9TyMIzgNr7onvxbxwhGVaL8pY",
      "include_colab_link": true
    },
    "kernelspec": {
      "name": "python3",
      "display_name": "Python 3"
    },
    "language_info": {
      "name": "python"
    }
  },
  "cells": [
    {
      "cell_type": "markdown",
      "metadata": {
        "id": "view-in-github",
        "colab_type": "text"
      },
      "source": [
        "<a href=\"https://colab.research.google.com/github/henryyuzo/biblioteca_pandas/blob/main/Modeling_Pr%C3%A1tico.ipynb\" target=\"_parent\"><img src=\"https://colab.research.google.com/assets/colab-badge.svg\" alt=\"Open In Colab\"/></a>"
      ]
    },
    {
      "cell_type": "code",
      "execution_count": 1,
      "metadata": {
        "id": "hC4kkNdHs9mT"
      },
      "outputs": [],
      "source": [
        "from sklearn import datasets"
      ]
    },
    {
      "cell_type": "code",
      "source": [
        "# load_boston foi removido do sklearn na v1.2, outra maneira de se utilizar a database\n",
        "import pandas as pd\n",
        "import numpy as np\n",
        "\n",
        "data_url = \"http://lib.stat.cmu.edu/datasets/boston\"\n",
        "housing = pd.read_csv(data_url, sep=\"\\s+\", skiprows=22, header=None)\n",
        "data = np.hstack([housing.values[::2, :], housing.values[1::2, :2]])\n",
        "target = housing.values[1::2, 2]\n",
        "\n",
        "column_names = [\"CRIM\", \"ZN\", \"INDUS\", \"CHAS\", \"NOX\", \"RM\", \"AGE\", \"DIS\", \"RAD\", \"TAX\", \"PTRATIO\", \"B\", \"LSTAT\", \"MEDV\"]\n",
        "\n",
        "# Criar DataFrame final com nomes de colunas\n",
        "df = pd.DataFrame(data, columns=column_names[:-1])  # Ignorar a coluna 'MEDV'\n",
        "df['MEDV'] = target  # Adicionar a coluna 'MEDV'\n",
        "\n",
        "# Exibir as primeiras linhas do DataFrame final\n",
        "df.head()"
      ],
      "metadata": {
        "colab": {
          "base_uri": "https://localhost:8080/",
          "height": 206
        },
        "id": "r1_MBY5XtHhZ",
        "outputId": "c2e2bd41-d013-46ac-ed41-297451fa2dd1"
      },
      "execution_count": 2,
      "outputs": [
        {
          "output_type": "execute_result",
          "data": {
            "text/plain": [
              "      CRIM    ZN  INDUS  CHAS    NOX     RM   AGE     DIS  RAD    TAX  \\\n",
              "0  0.00632  18.0   2.31   0.0  0.538  6.575  65.2  4.0900  1.0  296.0   \n",
              "1  0.02731   0.0   7.07   0.0  0.469  6.421  78.9  4.9671  2.0  242.0   \n",
              "2  0.02729   0.0   7.07   0.0  0.469  7.185  61.1  4.9671  2.0  242.0   \n",
              "3  0.03237   0.0   2.18   0.0  0.458  6.998  45.8  6.0622  3.0  222.0   \n",
              "4  0.06905   0.0   2.18   0.0  0.458  7.147  54.2  6.0622  3.0  222.0   \n",
              "\n",
              "   PTRATIO       B  LSTAT  MEDV  \n",
              "0     15.3  396.90   4.98  24.0  \n",
              "1     17.8  396.90   9.14  21.6  \n",
              "2     17.8  392.83   4.03  34.7  \n",
              "3     18.7  394.63   2.94  33.4  \n",
              "4     18.7  396.90   5.33  36.2  "
            ],
            "text/html": [
              "\n",
              "  <div id=\"df-f8737eb7-ee35-410b-bdff-6656b7cdab1a\" class=\"colab-df-container\">\n",
              "    <div>\n",
              "<style scoped>\n",
              "    .dataframe tbody tr th:only-of-type {\n",
              "        vertical-align: middle;\n",
              "    }\n",
              "\n",
              "    .dataframe tbody tr th {\n",
              "        vertical-align: top;\n",
              "    }\n",
              "\n",
              "    .dataframe thead th {\n",
              "        text-align: right;\n",
              "    }\n",
              "</style>\n",
              "<table border=\"1\" class=\"dataframe\">\n",
              "  <thead>\n",
              "    <tr style=\"text-align: right;\">\n",
              "      <th></th>\n",
              "      <th>CRIM</th>\n",
              "      <th>ZN</th>\n",
              "      <th>INDUS</th>\n",
              "      <th>CHAS</th>\n",
              "      <th>NOX</th>\n",
              "      <th>RM</th>\n",
              "      <th>AGE</th>\n",
              "      <th>DIS</th>\n",
              "      <th>RAD</th>\n",
              "      <th>TAX</th>\n",
              "      <th>PTRATIO</th>\n",
              "      <th>B</th>\n",
              "      <th>LSTAT</th>\n",
              "      <th>MEDV</th>\n",
              "    </tr>\n",
              "  </thead>\n",
              "  <tbody>\n",
              "    <tr>\n",
              "      <th>0</th>\n",
              "      <td>0.00632</td>\n",
              "      <td>18.0</td>\n",
              "      <td>2.31</td>\n",
              "      <td>0.0</td>\n",
              "      <td>0.538</td>\n",
              "      <td>6.575</td>\n",
              "      <td>65.2</td>\n",
              "      <td>4.0900</td>\n",
              "      <td>1.0</td>\n",
              "      <td>296.0</td>\n",
              "      <td>15.3</td>\n",
              "      <td>396.90</td>\n",
              "      <td>4.98</td>\n",
              "      <td>24.0</td>\n",
              "    </tr>\n",
              "    <tr>\n",
              "      <th>1</th>\n",
              "      <td>0.02731</td>\n",
              "      <td>0.0</td>\n",
              "      <td>7.07</td>\n",
              "      <td>0.0</td>\n",
              "      <td>0.469</td>\n",
              "      <td>6.421</td>\n",
              "      <td>78.9</td>\n",
              "      <td>4.9671</td>\n",
              "      <td>2.0</td>\n",
              "      <td>242.0</td>\n",
              "      <td>17.8</td>\n",
              "      <td>396.90</td>\n",
              "      <td>9.14</td>\n",
              "      <td>21.6</td>\n",
              "    </tr>\n",
              "    <tr>\n",
              "      <th>2</th>\n",
              "      <td>0.02729</td>\n",
              "      <td>0.0</td>\n",
              "      <td>7.07</td>\n",
              "      <td>0.0</td>\n",
              "      <td>0.469</td>\n",
              "      <td>7.185</td>\n",
              "      <td>61.1</td>\n",
              "      <td>4.9671</td>\n",
              "      <td>2.0</td>\n",
              "      <td>242.0</td>\n",
              "      <td>17.8</td>\n",
              "      <td>392.83</td>\n",
              "      <td>4.03</td>\n",
              "      <td>34.7</td>\n",
              "    </tr>\n",
              "    <tr>\n",
              "      <th>3</th>\n",
              "      <td>0.03237</td>\n",
              "      <td>0.0</td>\n",
              "      <td>2.18</td>\n",
              "      <td>0.0</td>\n",
              "      <td>0.458</td>\n",
              "      <td>6.998</td>\n",
              "      <td>45.8</td>\n",
              "      <td>6.0622</td>\n",
              "      <td>3.0</td>\n",
              "      <td>222.0</td>\n",
              "      <td>18.7</td>\n",
              "      <td>394.63</td>\n",
              "      <td>2.94</td>\n",
              "      <td>33.4</td>\n",
              "    </tr>\n",
              "    <tr>\n",
              "      <th>4</th>\n",
              "      <td>0.06905</td>\n",
              "      <td>0.0</td>\n",
              "      <td>2.18</td>\n",
              "      <td>0.0</td>\n",
              "      <td>0.458</td>\n",
              "      <td>7.147</td>\n",
              "      <td>54.2</td>\n",
              "      <td>6.0622</td>\n",
              "      <td>3.0</td>\n",
              "      <td>222.0</td>\n",
              "      <td>18.7</td>\n",
              "      <td>396.90</td>\n",
              "      <td>5.33</td>\n",
              "      <td>36.2</td>\n",
              "    </tr>\n",
              "  </tbody>\n",
              "</table>\n",
              "</div>\n",
              "    <div class=\"colab-df-buttons\">\n",
              "\n",
              "  <div class=\"colab-df-container\">\n",
              "    <button class=\"colab-df-convert\" onclick=\"convertToInteractive('df-f8737eb7-ee35-410b-bdff-6656b7cdab1a')\"\n",
              "            title=\"Convert this dataframe to an interactive table.\"\n",
              "            style=\"display:none;\">\n",
              "\n",
              "  <svg xmlns=\"http://www.w3.org/2000/svg\" height=\"24px\" viewBox=\"0 -960 960 960\">\n",
              "    <path d=\"M120-120v-720h720v720H120Zm60-500h600v-160H180v160Zm220 220h160v-160H400v160Zm0 220h160v-160H400v160ZM180-400h160v-160H180v160Zm440 0h160v-160H620v160ZM180-180h160v-160H180v160Zm440 0h160v-160H620v160Z\"/>\n",
              "  </svg>\n",
              "    </button>\n",
              "\n",
              "  <style>\n",
              "    .colab-df-container {\n",
              "      display:flex;\n",
              "      gap: 12px;\n",
              "    }\n",
              "\n",
              "    .colab-df-convert {\n",
              "      background-color: #E8F0FE;\n",
              "      border: none;\n",
              "      border-radius: 50%;\n",
              "      cursor: pointer;\n",
              "      display: none;\n",
              "      fill: #1967D2;\n",
              "      height: 32px;\n",
              "      padding: 0 0 0 0;\n",
              "      width: 32px;\n",
              "    }\n",
              "\n",
              "    .colab-df-convert:hover {\n",
              "      background-color: #E2EBFA;\n",
              "      box-shadow: 0px 1px 2px rgba(60, 64, 67, 0.3), 0px 1px 3px 1px rgba(60, 64, 67, 0.15);\n",
              "      fill: #174EA6;\n",
              "    }\n",
              "\n",
              "    .colab-df-buttons div {\n",
              "      margin-bottom: 4px;\n",
              "    }\n",
              "\n",
              "    [theme=dark] .colab-df-convert {\n",
              "      background-color: #3B4455;\n",
              "      fill: #D2E3FC;\n",
              "    }\n",
              "\n",
              "    [theme=dark] .colab-df-convert:hover {\n",
              "      background-color: #434B5C;\n",
              "      box-shadow: 0px 1px 3px 1px rgba(0, 0, 0, 0.15);\n",
              "      filter: drop-shadow(0px 1px 2px rgba(0, 0, 0, 0.3));\n",
              "      fill: #FFFFFF;\n",
              "    }\n",
              "  </style>\n",
              "\n",
              "    <script>\n",
              "      const buttonEl =\n",
              "        document.querySelector('#df-f8737eb7-ee35-410b-bdff-6656b7cdab1a button.colab-df-convert');\n",
              "      buttonEl.style.display =\n",
              "        google.colab.kernel.accessAllowed ? 'block' : 'none';\n",
              "\n",
              "      async function convertToInteractive(key) {\n",
              "        const element = document.querySelector('#df-f8737eb7-ee35-410b-bdff-6656b7cdab1a');\n",
              "        const dataTable =\n",
              "          await google.colab.kernel.invokeFunction('convertToInteractive',\n",
              "                                                    [key], {});\n",
              "        if (!dataTable) return;\n",
              "\n",
              "        const docLinkHtml = 'Like what you see? Visit the ' +\n",
              "          '<a target=\"_blank\" href=https://colab.research.google.com/notebooks/data_table.ipynb>data table notebook</a>'\n",
              "          + ' to learn more about interactive tables.';\n",
              "        element.innerHTML = '';\n",
              "        dataTable['output_type'] = 'display_data';\n",
              "        await google.colab.output.renderOutput(dataTable, element);\n",
              "        const docLink = document.createElement('div');\n",
              "        docLink.innerHTML = docLinkHtml;\n",
              "        element.appendChild(docLink);\n",
              "      }\n",
              "    </script>\n",
              "  </div>\n",
              "\n",
              "\n",
              "<div id=\"df-064f2076-d3ff-4905-a14a-1699e20f28a1\">\n",
              "  <button class=\"colab-df-quickchart\" onclick=\"quickchart('df-064f2076-d3ff-4905-a14a-1699e20f28a1')\"\n",
              "            title=\"Suggest charts\"\n",
              "            style=\"display:none;\">\n",
              "\n",
              "<svg xmlns=\"http://www.w3.org/2000/svg\" height=\"24px\"viewBox=\"0 0 24 24\"\n",
              "     width=\"24px\">\n",
              "    <g>\n",
              "        <path d=\"M19 3H5c-1.1 0-2 .9-2 2v14c0 1.1.9 2 2 2h14c1.1 0 2-.9 2-2V5c0-1.1-.9-2-2-2zM9 17H7v-7h2v7zm4 0h-2V7h2v10zm4 0h-2v-4h2v4z\"/>\n",
              "    </g>\n",
              "</svg>\n",
              "  </button>\n",
              "\n",
              "<style>\n",
              "  .colab-df-quickchart {\n",
              "      --bg-color: #E8F0FE;\n",
              "      --fill-color: #1967D2;\n",
              "      --hover-bg-color: #E2EBFA;\n",
              "      --hover-fill-color: #174EA6;\n",
              "      --disabled-fill-color: #AAA;\n",
              "      --disabled-bg-color: #DDD;\n",
              "  }\n",
              "\n",
              "  [theme=dark] .colab-df-quickchart {\n",
              "      --bg-color: #3B4455;\n",
              "      --fill-color: #D2E3FC;\n",
              "      --hover-bg-color: #434B5C;\n",
              "      --hover-fill-color: #FFFFFF;\n",
              "      --disabled-bg-color: #3B4455;\n",
              "      --disabled-fill-color: #666;\n",
              "  }\n",
              "\n",
              "  .colab-df-quickchart {\n",
              "    background-color: var(--bg-color);\n",
              "    border: none;\n",
              "    border-radius: 50%;\n",
              "    cursor: pointer;\n",
              "    display: none;\n",
              "    fill: var(--fill-color);\n",
              "    height: 32px;\n",
              "    padding: 0;\n",
              "    width: 32px;\n",
              "  }\n",
              "\n",
              "  .colab-df-quickchart:hover {\n",
              "    background-color: var(--hover-bg-color);\n",
              "    box-shadow: 0 1px 2px rgba(60, 64, 67, 0.3), 0 1px 3px 1px rgba(60, 64, 67, 0.15);\n",
              "    fill: var(--button-hover-fill-color);\n",
              "  }\n",
              "\n",
              "  .colab-df-quickchart-complete:disabled,\n",
              "  .colab-df-quickchart-complete:disabled:hover {\n",
              "    background-color: var(--disabled-bg-color);\n",
              "    fill: var(--disabled-fill-color);\n",
              "    box-shadow: none;\n",
              "  }\n",
              "\n",
              "  .colab-df-spinner {\n",
              "    border: 2px solid var(--fill-color);\n",
              "    border-color: transparent;\n",
              "    border-bottom-color: var(--fill-color);\n",
              "    animation:\n",
              "      spin 1s steps(1) infinite;\n",
              "  }\n",
              "\n",
              "  @keyframes spin {\n",
              "    0% {\n",
              "      border-color: transparent;\n",
              "      border-bottom-color: var(--fill-color);\n",
              "      border-left-color: var(--fill-color);\n",
              "    }\n",
              "    20% {\n",
              "      border-color: transparent;\n",
              "      border-left-color: var(--fill-color);\n",
              "      border-top-color: var(--fill-color);\n",
              "    }\n",
              "    30% {\n",
              "      border-color: transparent;\n",
              "      border-left-color: var(--fill-color);\n",
              "      border-top-color: var(--fill-color);\n",
              "      border-right-color: var(--fill-color);\n",
              "    }\n",
              "    40% {\n",
              "      border-color: transparent;\n",
              "      border-right-color: var(--fill-color);\n",
              "      border-top-color: var(--fill-color);\n",
              "    }\n",
              "    60% {\n",
              "      border-color: transparent;\n",
              "      border-right-color: var(--fill-color);\n",
              "    }\n",
              "    80% {\n",
              "      border-color: transparent;\n",
              "      border-right-color: var(--fill-color);\n",
              "      border-bottom-color: var(--fill-color);\n",
              "    }\n",
              "    90% {\n",
              "      border-color: transparent;\n",
              "      border-bottom-color: var(--fill-color);\n",
              "    }\n",
              "  }\n",
              "</style>\n",
              "\n",
              "  <script>\n",
              "    async function quickchart(key) {\n",
              "      const quickchartButtonEl =\n",
              "        document.querySelector('#' + key + ' button');\n",
              "      quickchartButtonEl.disabled = true;  // To prevent multiple clicks.\n",
              "      quickchartButtonEl.classList.add('colab-df-spinner');\n",
              "      try {\n",
              "        const charts = await google.colab.kernel.invokeFunction(\n",
              "            'suggestCharts', [key], {});\n",
              "      } catch (error) {\n",
              "        console.error('Error during call to suggestCharts:', error);\n",
              "      }\n",
              "      quickchartButtonEl.classList.remove('colab-df-spinner');\n",
              "      quickchartButtonEl.classList.add('colab-df-quickchart-complete');\n",
              "    }\n",
              "    (() => {\n",
              "      let quickchartButtonEl =\n",
              "        document.querySelector('#df-064f2076-d3ff-4905-a14a-1699e20f28a1 button');\n",
              "      quickchartButtonEl.style.display =\n",
              "        google.colab.kernel.accessAllowed ? 'block' : 'none';\n",
              "    })();\n",
              "  </script>\n",
              "</div>\n",
              "\n",
              "    </div>\n",
              "  </div>\n"
            ],
            "application/vnd.google.colaboratory.intrinsic+json": {
              "type": "dataframe",
              "variable_name": "df",
              "summary": "{\n  \"name\": \"df\",\n  \"rows\": 506,\n  \"fields\": [\n    {\n      \"column\": \"CRIM\",\n      \"properties\": {\n        \"dtype\": \"number\",\n        \"std\": 8.60154510533249,\n        \"min\": 0.00632,\n        \"max\": 88.9762,\n        \"num_unique_values\": 504,\n        \"samples\": [\n          0.09178,\n          0.05644,\n          0.10574\n        ],\n        \"semantic_type\": \"\",\n        \"description\": \"\"\n      }\n    },\n    {\n      \"column\": \"ZN\",\n      \"properties\": {\n        \"dtype\": \"number\",\n        \"std\": 23.32245299451514,\n        \"min\": 0.0,\n        \"max\": 100.0,\n        \"num_unique_values\": 26,\n        \"samples\": [\n          25.0,\n          30.0,\n          18.0\n        ],\n        \"semantic_type\": \"\",\n        \"description\": \"\"\n      }\n    },\n    {\n      \"column\": \"INDUS\",\n      \"properties\": {\n        \"dtype\": \"number\",\n        \"std\": 6.860352940897585,\n        \"min\": 0.46,\n        \"max\": 27.74,\n        \"num_unique_values\": 76,\n        \"samples\": [\n          8.14,\n          1.47,\n          1.22\n        ],\n        \"semantic_type\": \"\",\n        \"description\": \"\"\n      }\n    },\n    {\n      \"column\": \"CHAS\",\n      \"properties\": {\n        \"dtype\": \"number\",\n        \"std\": 0.25399404134041037,\n        \"min\": 0.0,\n        \"max\": 1.0,\n        \"num_unique_values\": 2,\n        \"samples\": [\n          1.0,\n          0.0\n        ],\n        \"semantic_type\": \"\",\n        \"description\": \"\"\n      }\n    },\n    {\n      \"column\": \"NOX\",\n      \"properties\": {\n        \"dtype\": \"number\",\n        \"std\": 0.11587767566755595,\n        \"min\": 0.385,\n        \"max\": 0.871,\n        \"num_unique_values\": 81,\n        \"samples\": [\n          0.401,\n          0.538\n        ],\n        \"semantic_type\": \"\",\n        \"description\": \"\"\n      }\n    },\n    {\n      \"column\": \"RM\",\n      \"properties\": {\n        \"dtype\": \"number\",\n        \"std\": 0.7026171434153233,\n        \"min\": 3.561,\n        \"max\": 8.78,\n        \"num_unique_values\": 446,\n        \"samples\": [\n          6.849,\n          4.88\n        ],\n        \"semantic_type\": \"\",\n        \"description\": \"\"\n      }\n    },\n    {\n      \"column\": \"AGE\",\n      \"properties\": {\n        \"dtype\": \"number\",\n        \"std\": 28.148861406903617,\n        \"min\": 2.9,\n        \"max\": 100.0,\n        \"num_unique_values\": 356,\n        \"samples\": [\n          51.8,\n          33.8\n        ],\n        \"semantic_type\": \"\",\n        \"description\": \"\"\n      }\n    },\n    {\n      \"column\": \"DIS\",\n      \"properties\": {\n        \"dtype\": \"number\",\n        \"std\": 2.105710126627611,\n        \"min\": 1.1296,\n        \"max\": 12.1265,\n        \"num_unique_values\": 412,\n        \"samples\": [\n          2.2955,\n          4.2515\n        ],\n        \"semantic_type\": \"\",\n        \"description\": \"\"\n      }\n    },\n    {\n      \"column\": \"RAD\",\n      \"properties\": {\n        \"dtype\": \"number\",\n        \"std\": 8.707259384239366,\n        \"min\": 1.0,\n        \"max\": 24.0,\n        \"num_unique_values\": 9,\n        \"samples\": [\n          7.0,\n          2.0\n        ],\n        \"semantic_type\": \"\",\n        \"description\": \"\"\n      }\n    },\n    {\n      \"column\": \"TAX\",\n      \"properties\": {\n        \"dtype\": \"number\",\n        \"std\": 168.53711605495903,\n        \"min\": 187.0,\n        \"max\": 711.0,\n        \"num_unique_values\": 66,\n        \"samples\": [\n          370.0,\n          666.0\n        ],\n        \"semantic_type\": \"\",\n        \"description\": \"\"\n      }\n    },\n    {\n      \"column\": \"PTRATIO\",\n      \"properties\": {\n        \"dtype\": \"number\",\n        \"std\": 2.1649455237144406,\n        \"min\": 12.6,\n        \"max\": 22.0,\n        \"num_unique_values\": 46,\n        \"samples\": [\n          19.6,\n          15.6\n        ],\n        \"semantic_type\": \"\",\n        \"description\": \"\"\n      }\n    },\n    {\n      \"column\": \"B\",\n      \"properties\": {\n        \"dtype\": \"number\",\n        \"std\": 91.29486438415783,\n        \"min\": 0.32,\n        \"max\": 396.9,\n        \"num_unique_values\": 357,\n        \"samples\": [\n          396.24,\n          395.11\n        ],\n        \"semantic_type\": \"\",\n        \"description\": \"\"\n      }\n    },\n    {\n      \"column\": \"LSTAT\",\n      \"properties\": {\n        \"dtype\": \"number\",\n        \"std\": 7.141061511348571,\n        \"min\": 1.73,\n        \"max\": 37.97,\n        \"num_unique_values\": 455,\n        \"samples\": [\n          6.15,\n          4.32\n        ],\n        \"semantic_type\": \"\",\n        \"description\": \"\"\n      }\n    },\n    {\n      \"column\": \"MEDV\",\n      \"properties\": {\n        \"dtype\": \"number\",\n        \"std\": 9.197104087379818,\n        \"min\": 5.0,\n        \"max\": 50.0,\n        \"num_unique_values\": 229,\n        \"samples\": [\n          14.1,\n          22.5\n        ],\n        \"semantic_type\": \"\",\n        \"description\": \"\"\n      }\n    }\n  ]\n}"
            }
          },
          "metadata": {},
          "execution_count": 2
        }
      ]
    },
    {
      "cell_type": "markdown",
      "source": [
        "#Modeling techniques\n",
        "\n",
        "1. [Regressão Linear do sklearn](https://scikit-learn.org/stable/modules/generated/sklearn.linear_model.LinearRegression.html#sklearn.linear_model.LinearRegression)\n",
        "2. [Support Vector Regression do sklearn](https://scikit-learn.org/stable/modules/generated/sklearn.svm.SVR.html#sklearn.svm.SVR)\n",
        "3. [Decision Tree Regression do XGBoost](https://xgboost.readthedocs.io/en/stable/python/python_api.html)\n",
        "\n",
        "Modeling Assumptions:\n",
        "Apenas variáveis numéricas\n"
      ],
      "metadata": {
        "id": "D23YOItQ-kp9"
      }
    },
    {
      "cell_type": "markdown",
      "source": [
        "#Test Desing\n",
        "##Dataset split:\n",
        "Separação de Train/Test dataset padrão com 20% de massa para teste via método sklearn.\n",
        "\n",
        "##Métrica de avaliação do modelo:\n",
        "Validação da métrica Mean Squared Error (MSE) e Root Mean Square Error (RMSE) para penalizar grandes erros de previsão,[ utilizando o método do sklearn](https://scikit-learn.org/stable/modules/generated/sklearn.metrics.mean_squared_error.html#sklearn.metrics.mean_squared_error)."
      ],
      "metadata": {
        "id": "PURkL4cwB5WR"
      }
    },
    {
      "cell_type": "code",
      "source": [
        "from sklearn.metrics import mean_squared_error\n",
        "from sklearn.model_selection import train_test_split"
      ],
      "metadata": {
        "id": "_ISNT211D9oU"
      },
      "execution_count": 3,
      "outputs": []
    },
    {
      "cell_type": "code",
      "source": [
        "X_train, X_test, y_train, y_test = train_test_split(data, target, test_size = 0.2, random_state = 42)"
      ],
      "metadata": {
        "id": "ubGoln5QDKct"
      },
      "execution_count": 4,
      "outputs": []
    },
    {
      "cell_type": "markdown",
      "source": [
        "#1. Regressão Linear"
      ],
      "metadata": {
        "id": "oE6kb24dMuZI"
      }
    },
    {
      "cell_type": "code",
      "source": [
        "# Criando e treinando o modelo de regressão linear\n",
        "from sklearn.linear_model import LinearRegression\n",
        "#regLinear = LinearRegression() // atribuindo o modelo de regressão linear à variável\n",
        "#trained = regLinear.fit(X_train, y_train) // fornecendo a amostra de treino para o modelo de regressão linear\n",
        "regLinear = LinearRegression().fit(X_train, y_train)"
      ],
      "metadata": {
        "id": "b4UfQ8UcDnqv"
      },
      "execution_count": 5,
      "outputs": []
    },
    {
      "cell_type": "code",
      "source": [
        "yPredLinear = regLinear.predict(X_test)"
      ],
      "metadata": {
        "id": "W5TJPurSHymR"
      },
      "execution_count": 6,
      "outputs": []
    },
    {
      "cell_type": "code",
      "source": [
        "# Comparando o resultado predito (yPredLinear) com o resultado real (y_test) utilizando o MSE e RMSE\n",
        "MSE_L = mean_squared_error(y_test, yPredLinear)\n",
        "RMSE_L = np.sqrt(MSE_L)\n",
        "print(f'MSE: {MSE_L*1000:f}') # indica que, em média, os preços previstos desviam MSE dos preços reais.\n",
        "print(f'RMSE: {RMSE_L*1000:f}') # indica que, em média, os preços previstos desviam RMSE dos preços reais."
      ],
      "metadata": {
        "colab": {
          "base_uri": "https://localhost:8080/"
        },
        "id": "Bfnu95r_IRC_",
        "outputId": "5cf2bf9a-88b9-4198-b202-0c8472b86e0b"
      },
      "execution_count": 7,
      "outputs": [
        {
          "output_type": "stream",
          "name": "stdout",
          "text": [
            "MSE: 24291.119475\n",
            "RMSE: 4928.602183\n"
          ]
        }
      ]
    },
    {
      "cell_type": "markdown",
      "source": [
        "#2. Support Vector Regression"
      ],
      "metadata": {
        "id": "9Ytmw8jqM2tt"
      }
    },
    {
      "cell_type": "code",
      "source": [
        "# Criando e treinando o modelo de Support Vector Regression\n",
        "from sklearn.svm import SVR\n",
        "regSVR = SVR().fit(X_train, y_train)"
      ],
      "metadata": {
        "id": "lwFpv8B1NLHW"
      },
      "execution_count": 8,
      "outputs": []
    },
    {
      "cell_type": "code",
      "source": [
        "# Comparando o resultado predito (yPredSVR) com o resultado real (y_test) utilizando o MSE e RMSE\n",
        "yPredSVR = regSVR.predict(X_test)\n",
        "MSE_SVR = mean_squared_error(y_test, yPredSVR)\n",
        "RMSE_SVR = np.sqrt(MSE_SVR)\n",
        "print(f'MSE: {MSE_SVR*1000:f}') # indica que, em média, os preços previstos desviam MSE dos preços reais.\n",
        "print(f'RMSE: {RMSE_SVR*1000:f}') # indica que, em média, os preços previstos desviam RMSE dos preços reais."
      ],
      "metadata": {
        "colab": {
          "base_uri": "https://localhost:8080/"
        },
        "id": "nYevM__YNp5R",
        "outputId": "f13c327a-f97a-4ba9-c57c-676d3e069a31"
      },
      "execution_count": 9,
      "outputs": [
        {
          "output_type": "stream",
          "name": "stdout",
          "text": [
            "MSE: 52838.365768\n",
            "RMSE: 7269.000328\n"
          ]
        }
      ]
    },
    {
      "cell_type": "markdown",
      "source": [
        "#3. Decision Tree Regression (XGBoost)"
      ],
      "metadata": {
        "id": "TTV5OfcfOpBJ"
      }
    },
    {
      "cell_type": "code",
      "source": [
        "# Criando e treinando o modelo de Decision Tree Regression (XGBoost)\n",
        "from xgboost import XGBRegressor\n",
        "regXGB = XGBRegressor().fit(X_train, y_train)"
      ],
      "metadata": {
        "id": "eNpsXBO-OwOB"
      },
      "execution_count": 10,
      "outputs": []
    },
    {
      "cell_type": "code",
      "source": [
        "# Comparando o resultado predito (yPredSVR) com o resultado real (y_test) utilizando o MSE e RMSE\n",
        "yPredXGB = regXGB.predict(X_test)\n",
        "MSE_XGB = mean_squared_error(y_test, yPredXGB)\n",
        "RMSE_XGB = np.sqrt(MSE_XGB)\n",
        "print(f'MSE: {MSE_XGB*1000:f}') # indica que, em média, os preços previstos desviam MSE dos preços reais.\n",
        "print(f'RMSE: {RMSE_XGB*1000:f}') # indica que, em média, os preços previstos desviam RMSE dos preços reais."
      ],
      "metadata": {
        "colab": {
          "base_uri": "https://localhost:8080/"
        },
        "id": "NVKCe0z2PYJg",
        "outputId": "990b30af-e563-4d3c-eb29-ac99f1c50ffb"
      },
      "execution_count": 11,
      "outputs": [
        {
          "output_type": "stream",
          "name": "stdout",
          "text": [
            "MSE: 6909.231565\n",
            "RMSE: 2628.541718\n"
          ]
        }
      ]
    },
    {
      "cell_type": "markdown",
      "source": [
        "#Definindo o melhor modelo\n",
        "\n",
        "MSE e RMSE, quanto menor os valores, mais precisos os resultados"
      ],
      "metadata": {
        "id": "vGDwqEIgQCbZ"
      }
    },
    {
      "cell_type": "code",
      "source": [
        "# Criando os dicionários de resultados MSE e RMSE\n",
        "resMSE = {'RegL': MSE_L, 'SVR': MSE_SVR, 'XGB': MSE_XGB}\n",
        "resRMSE = {'RegL': RMSE_L, 'SVR': RMSE_SVR, 'XGB': RMSE_XGB}\n",
        "\n",
        "# Encontrando os menores valores de MSE e RMSE\n",
        "bMSE = min(resMSE.values())\n",
        "bRMSE = min(resRMSE.values())\n",
        "\n",
        "# Encontrando as chaves correspondentes aos menores valores de MSE e RMSE\n",
        "chave_menor_MSE = [chave for chave, valor in resMSE.items() if valor == bMSE][0]\n",
        "chave_menor_RMSE = [chave for chave, valor in resRMSE.items() if valor == bRMSE][0]\n",
        "\n",
        "# Imprimindo os menores valores e os nomes das chaves\n",
        "print(f'Melhor modelo de previsão: {chave_menor_MSE}')\n",
        "print(f'MSE: {bMSE} * 1000 = {bMSE*1000}')\n",
        "print(f'MSE: {bRMSE} * 1000 = {bRMSE*1000}')"
      ],
      "metadata": {
        "colab": {
          "base_uri": "https://localhost:8080/"
        },
        "id": "mmFZJo-5QMdB",
        "outputId": "92bc8dd2-44b9-487a-ac32-2af654a719b3"
      },
      "execution_count": 12,
      "outputs": [
        {
          "output_type": "stream",
          "name": "stdout",
          "text": [
            "Melhor modelo de previsão: XGB\n",
            "MSE: 6.909231565384943 * 1000 = 6909.231565384944\n",
            "MSE: 2.62854171840299 * 1000 = 2628.5417184029898\n"
          ]
        }
      ]
    },
    {
      "cell_type": "markdown",
      "source": [
        "#Otimizando hiper-parâmetros\n",
        "Utilizando o [Grid Search](https://scikit-learn.org/stable/modules/generated/sklearn.model_selection.GridSearchCV.html#sklearn.model_selection.GridSearchCV) do sklearn"
      ],
      "metadata": {
        "id": "Nvu1BHefTkcu"
      }
    },
    {
      "cell_type": "code",
      "source": [
        "from sklearn.model_selection import GridSearchCV"
      ],
      "metadata": {
        "id": "4rhpdz_nVAWn"
      },
      "execution_count": 13,
      "outputs": []
    },
    {
      "cell_type": "code",
      "source": [
        "# Pegando os parâmetros do modelo\n",
        "regXGB.get_params().keys()"
      ],
      "metadata": {
        "colab": {
          "base_uri": "https://localhost:8080/"
        },
        "id": "leQ2m8kaVxqb",
        "outputId": "0f6098db-b176-41e0-eaa2-51e1683dd5d4"
      },
      "execution_count": 14,
      "outputs": [
        {
          "output_type": "execute_result",
          "data": {
            "text/plain": [
              "dict_keys(['objective', 'base_score', 'booster', 'callbacks', 'colsample_bylevel', 'colsample_bynode', 'colsample_bytree', 'device', 'early_stopping_rounds', 'enable_categorical', 'eval_metric', 'feature_types', 'gamma', 'grow_policy', 'importance_type', 'interaction_constraints', 'learning_rate', 'max_bin', 'max_cat_threshold', 'max_cat_to_onehot', 'max_delta_step', 'max_depth', 'max_leaves', 'min_child_weight', 'missing', 'monotone_constraints', 'multi_strategy', 'n_estimators', 'n_jobs', 'num_parallel_tree', 'random_state', 'reg_alpha', 'reg_lambda', 'sampling_method', 'scale_pos_weight', 'subsample', 'tree_method', 'validate_parameters', 'verbosity'])"
            ]
          },
          "metadata": {},
          "execution_count": 14
        }
      ]
    },
    {
      "cell_type": "markdown",
      "source": [
        "## Explicação dos hiper-parâmetros"
      ],
      "metadata": {
        "id": "Upo_jEo9b327"
      }
    },
    {
      "cell_type": "markdown",
      "source": [
        "Explicando os hiper-parâmetros de forma simples:\n",
        "\n",
        "1. **max_depth**:\n",
        "   - É como perguntar \"quantas perguntas você pode fazer sobre uma casa antes de adivinhar o preço?\".\n",
        "   - Quanto mais profunda for a árvore, mais detalhes o modelo pode aprender sobre os dados, mas muito profunda pode fazer com que ele decore os dados em vez de entender.\n",
        "\n",
        "2. **learning_rate**:\n",
        "   - É como definir o tamanho dos passos que o modelo dá para aprender.\n",
        "   - Uma taxa de aprendizado maior significa que ele aprenderá mais rápido, mas pode pular algumas nuances importantes.\n",
        "   \n",
        "3. **objective**:\n",
        "   - É como dizer ao modelo qual é o objetivo final do aprendizado.\n",
        "   - Aqui estamos dizendo que queremos prever preços de casas com o menor erro possível.\n",
        "\n",
        "4. **booster**:\n",
        "   - É como escolher o tipo de modelo que estamos construindo.\n",
        "   - Estamos dizendo que queremos usar um modelo baseado em árvores de decisão.\n",
        "\n",
        "5. **n_jobs**:\n",
        "   - É como dizer ao computador quantos trabalhadores ele deve ter para construir o modelo.\n",
        "   - Mais trabalhadores podem fazer o trabalho mais rápido, mas também podem sobrecarregar o computador.\n",
        "\n",
        "6. **gamma**:\n",
        "   - É como dizer ao modelo quando parar de fazer perguntas detalhadas.\n",
        "   - Um valor maior significa que o modelo parará de fazer perguntas mais cedo.\n",
        "\n",
        "7. **min_child_weight**:\n",
        "   - É como dizer ao modelo quanto peso deve ter uma resposta antes de levá-la a sério.\n",
        "   - Valores maiores significam que o modelo precisa de mais exemplos para considerar uma resposta válida.\n",
        "\n",
        "8. **max_delta_step**:\n",
        "   - É como dizer ao modelo para não mudar muito rapidamente.\n",
        "   - Isso ajuda a tornar o modelo mais estável durante o treinamento.\n",
        "\n",
        "9. **subsample**:\n",
        "   - É como dizer ao modelo quantos exemplos ele deve usar para aprender de cada vez.\n",
        "   - Usar menos exemplos pode ajudar a evitar que o modelo decore os dados em vez de aprender padrões gerais."
      ],
      "metadata": {
        "id": "DYokgKUdcqBY"
      }
    },
    {
      "cell_type": "markdown",
      "source": [
        "## Definindo os hiper-parâmetros"
      ],
      "metadata": {
        "id": "cdD0fLwidHqH"
      }
    },
    {
      "cell_type": "code",
      "source": [
        "# Definindo os hiper-parâmetros\n",
        "params = {\n",
        "    'max_depth' : [5, 6, 7],                # Controla a complexidade do modelo e a capacidade de ajuste.\n",
        "    'learning_rate' : [0.1],      # Taxa de aprendizado que controla a magnitude das atualizações nos pesos dos modelos durante o treinamento.\n",
        "    'objective' : [\"reg:squarederror\"],     # Define a função de perda a ser otimizada durante o treinamento.\n",
        "    'booster' : [\"gbtree\"],                 # Tipo de modelo a ser treinado\n",
        "    'n_jobs' : [5],                         # Número de threads a serem usados durante o treinamento, quantos processos ele fará em paralelo\n",
        "    'gamma' : [1],                       # Parâmetro de corte que controla a quantidade de redução da função de perda necessária para fazer uma nova divisão em um nó da árvore.\n",
        "    'min_child_weight' : [1, 3],            # O peso mínimo necessário em uma folha para continuar dividindo\n",
        "    'max_delta_step' : [0, 1],              # Limita a contribuição de cada árvore ao peso dos modelos durante o treinamento\n",
        "    'subsample' : [1]                  # Fração de exemplos de treinamento a serem usados em cada etapa de treinamento.\n",
        "}"
      ],
      "metadata": {
        "id": "hu-dHN7wWCEe"
      },
      "execution_count": 22,
      "outputs": []
    },
    {
      "cell_type": "code",
      "source": [
        "# Definindo o modelo a ser executado\n",
        "xgbGrid = GridSearchCV(XGBRegressor(), params,\n",
        "                       refit = 'neg_mean_squared_error', # refit é a métrica para definir qual o melhor modelo (utilizar o nome da métrica)\n",
        "                       verbose = True) # verbose descreve o passo a passo do que está ocorrendo"
      ],
      "metadata": {
        "id": "TF3EMy1NYj2P"
      },
      "execution_count": 23,
      "outputs": []
    },
    {
      "cell_type": "code",
      "source": [
        "xgbGridModel = xgbGrid.fit(X_train, y_train)"
      ],
      "metadata": {
        "colab": {
          "base_uri": "https://localhost:8080/"
        },
        "id": "jRjnhoN5Zrd2",
        "outputId": "96775e30-273b-4810-e069-d8204ed6c379"
      },
      "execution_count": 24,
      "outputs": [
        {
          "output_type": "stream",
          "name": "stdout",
          "text": [
            "Fitting 5 folds for each of 12 candidates, totalling 60 fits\n"
          ]
        }
      ]
    },
    {
      "cell_type": "code",
      "source": [
        "# Encontrar os melhores parâmetros\n",
        "xgbGridModel.best_params_"
      ],
      "metadata": {
        "colab": {
          "base_uri": "https://localhost:8080/"
        },
        "id": "13ccrRkmdq6Y",
        "outputId": "954a4464-096f-44a5-f1af-a3e58b1289f4"
      },
      "execution_count": 25,
      "outputs": [
        {
          "output_type": "execute_result",
          "data": {
            "text/plain": [
              "{'booster': 'gbtree',\n",
              " 'gamma': 1,\n",
              " 'learning_rate': 0.1,\n",
              " 'max_delta_step': 0,\n",
              " 'max_depth': 5,\n",
              " 'min_child_weight': 1,\n",
              " 'n_jobs': 5,\n",
              " 'objective': 'reg:squarederror',\n",
              " 'subsample': 1}"
            ]
          },
          "metadata": {},
          "execution_count": 25
        }
      ]
    },
    {
      "cell_type": "code",
      "source": [
        "# Comparando o resultado predito (yPredGrid) com o resultado real (y_test) utilizando o MSE e RMSE\n",
        "yPredGrid = xgbGridModel.predict(X_test)\n",
        "MSE_Grid = mean_squared_error(y_test, yPredGrid)\n",
        "RMSE_Grid = np.sqrt(MSE_Grid)\n",
        "print(f'MSE: {MSE_Grid*1000:f}') # indica que, em média, os preços previstos desviam MSE dos preços reais.\n",
        "print(f'RMSE: {RMSE_Grid*1000:f}') # indica que, em média, os preços previstos desviam RMSE dos preços reais."
      ],
      "metadata": {
        "colab": {
          "base_uri": "https://localhost:8080/"
        },
        "id": "Fsc-TwX2fjUa",
        "outputId": "30c62489-0c2a-4016-a8db-b15454111a5e"
      },
      "execution_count": 26,
      "outputs": [
        {
          "output_type": "stream",
          "name": "stdout",
          "text": [
            "MSE: 5941.294102\n",
            "RMSE: 2437.476995\n"
          ]
        }
      ]
    }
  ]
}